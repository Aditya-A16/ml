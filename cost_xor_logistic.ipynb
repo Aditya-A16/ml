{
  "nbformat": 4,
  "nbformat_minor": 0,
  "metadata": {
    "colab": {
      "provenance": [],
      "collapsed_sections": []
    },
    "kernelspec": {
      "name": "python3",
      "display_name": "Python 3"
    },
    "language_info": {
      "name": "python"
    }
  },
  "cells": [
    {
      "cell_type": "code",
      "execution_count": null,
      "metadata": {
        "id": "yxF0rsXJYsEt"
      },
      "outputs": [],
      "source": [
        "import numpy as np\n",
        "import matplotlib.pyplot as plt"
      ]
    },
    {
      "cell_type": "code",
      "source": [
        "X = np.array([[0, 0], [1, 0], [0, 1],[1, 1]])\n",
        "\n",
        "y = np.array([[1],[1],[0],[0]])"
      ],
      "metadata": {
        "id": "VDN3tzDaY5bs"
      },
      "execution_count": null,
      "outputs": []
    },
    {
      "cell_type": "code",
      "source": [
        "m = len(X[0])\n",
        "n = len(X[1])\n"
      ],
      "metadata": {
        "id": "ZujvzL8B14OE"
      },
      "execution_count": null,
      "outputs": []
    },
    {
      "cell_type": "code",
      "source": [
        "plt.scatter(X[:,0],X[:,1],c=[y])"
      ],
      "metadata": {
        "colab": {
          "base_uri": "https://localhost:8080/",
          "height": 282
        },
        "id": "djvW5jlxhjqL",
        "outputId": "5de939d0-175f-4f2c-8748-6e93b7c42863"
      },
      "execution_count": null,
      "outputs": [
        {
          "output_type": "execute_result",
          "data": {
            "text/plain": [
              "<matplotlib.collections.PathCollection at 0x7fef2239d850>"
            ]
          },
          "metadata": {},
          "execution_count": 207
        },
        {
          "output_type": "display_data",
          "data": {
            "text/plain": [
              "<Figure size 432x288 with 1 Axes>"
            ],
            "image/png": "[encoded data removed]"
          },
          "metadata": {
            "needs_background": "light"
          }
        }
      ]
    },
    {
      "cell_type": "code",
      "source": [
        "theta = np.random.rand(X.shape[1],1)\n",
        "bias = 1\n",
        "theta\n"
      ],
      "metadata": {
        "colab": {
          "base_uri": "https://localhost:8080/"
        },
        "id": "idEUddc_aO-j",
        "outputId": "482ec6fb-5586-418d-b915-d68a1c19e5c9"
      },
      "execution_count": null,
      "outputs": [
        {
          "output_type": "execute_result",
          "data": {
            "text/plain": [
              "array([[0.9437975 ],\n",
              "       [0.02949986]])"
            ]
          },
          "metadata": {},
          "execution_count": 208
        }
      ]
    },
    {
      "cell_type": "code",
      "source": [
        "hypothesis = X@theta + bias\n",
        "hypothesis"
      ],
      "metadata": {
        "colab": {
          "base_uri": "https://localhost:8080/"
        },
        "id": "sGvVxu7Hb9Tj",
        "outputId": "12814373-765e-40a8-cc17-edd018ae2b4d"
      },
      "execution_count": null,
      "outputs": [
        {
          "output_type": "execute_result",
          "data": {
            "text/plain": [
              "array([[1.        ],\n",
              "       [1.52869552],\n",
              "       [1.53131764],\n",
              "       [2.06001316]])"
            ]
          },
          "metadata": {},
          "execution_count": 166
        }
      ]
    },
    {
      "cell_type": "code",
      "source": [
        "z = 1/(1 + np.exp(-hypothesis))\n",
        "z"
      ],
      "metadata": {
        "colab": {
          "base_uri": "https://localhost:8080/"
        },
        "id": "gbaAl64DeEcL",
        "outputId": "af3e2a2e-53b7-4e14-a944-deb21c7472b0"
      },
      "execution_count": null,
      "outputs": [
        {
          "output_type": "execute_result",
          "data": {
            "text/plain": [
              "array([[0.75655998],\n",
              "       [0.850898  ],\n",
              "       [0.77064997],\n",
              "       [0.86053436]])"
            ]
          },
          "metadata": {},
          "execution_count": 152
        }
      ]
    },
    {
      "cell_type": "code",
      "source": [
        "cost0 = y.T@(np.log(z))\n",
        "cost1 = (1-y).T@(np.log(1-z))\n",
        "cost = -((cost1 + cost0))\n",
        "cost"
      ],
      "metadata": {
        "colab": {
          "base_uri": "https://localhost:8080/"
        },
        "id": "VH5b1MMZfgXL",
        "outputId": "4c0b8abc-d186-4824-91d5-bd631a63e5b1"
      },
      "execution_count": null,
      "outputs": [
        {
          "output_type": "execute_result",
          "data": {
            "text/plain": [
              "array([[3.80480576]])"
            ]
          },
          "metadata": {},
          "execution_count": 153
        }
      ]
    },
    {
      "cell_type": "code",
      "source": [
        "dW = (1/m)*np.dot(X .T, (z - y))\n",
        "dB = (1/m)*np.sum((z - y)) \n"
      ],
      "metadata": {
        "id": "3j939Gr50iLe"
      },
      "execution_count": null,
      "outputs": []
    },
    {
      "cell_type": "code",
      "source": [
        "theta -= 0.1*dW\n",
        "bias -= 0.1*dB"
      ],
      "metadata": {
        "id": "Pmny1y7W5KUN"
      },
      "execution_count": null,
      "outputs": []
    },
    {
      "cell_type": "code",
      "source": [
        "c_check = list()\n",
        "for i in range(100):\n",
        "  lr = 0.08\n",
        "  hypothesis = X@theta + bias\n",
        "  z = 1/(1 + np.exp(-hypothesis))\n",
        "  cost0 = y.T@(np.log(z))\n",
        "  cost1 = (1-y).T@(np.log(1-z))\n",
        "  cost = -((cost1 + cost0))\n",
        "  c_check.append(cost[0])\n",
        "  dW = (1/m)*np.dot(X .T, (z - y))\n",
        "  dB = (1/m)*np.sum((z - y)) \n",
        "  theta -= lr*dW\n",
        "  bias -= lr*dB"
      ],
      "metadata": {
        "id": "DW9oqxgi8b0s"
      },
      "execution_count": null,
      "outputs": []
    },
    {
      "cell_type": "code",
      "source": [
        "c_check[len(c_check)-1]"
      ],
      "metadata": {
        "colab": {
          "base_uri": "https://localhost:8080/"
        },
        "id": "0k-Pg0Mo9-VL",
        "outputId": "549b3835-6993-4b3f-f59d-d41c359c245d"
      },
      "execution_count": null,
      "outputs": [
        {
          "output_type": "execute_result",
          "data": {
            "text/plain": [
              "array([0.10376257])"
            ]
          },
          "metadata": {},
          "execution_count": 221
        }
      ]
    },
    {
      "cell_type": "code",
      "source": [
        "plt.scatter(range(1,101),c_check)"
      ],
      "metadata": {
        "colab": {
          "base_uri": "https://localhost:8080/",
          "height": 284
        },
        "id": "483TqTYP9vOj",
        "outputId": "b2910324-cb0b-4674-bfbb-7d300d779c37"
      },
      "execution_count": null,
      "outputs": [
        {
          "output_type": "execute_result",
          "data": {
            "text/plain": [
              "<matplotlib.collections.PathCollection at 0x7fef222ed510>"
            ]
          },
          "metadata": {},
          "execution_count": 212
        },
        {
          "output_type": "display_data",
          "data": {
            "text/plain": [
              "<Figure size 432x288 with 1 Axes>"
            ],
            "image/png": "[encoded data removed]"
          },
          "metadata": {
            "needs_background": "light"
          }
        }
      ]
    },
    {
      "cell_type": "code",
      "source": [
        "def pred(x):\n",
        "  ans = [] \n",
        "  hypothesis = x@theta + bias\n",
        "  z = 1/(1 + np.exp(-hypothesis)) \n",
        "  ans =  [1 if i > 0.5 else 0 for i in z]\n",
        "  return ans"
      ],
      "metadata": {
        "id": "7wjvGUtZ-e7U"
      },
      "execution_count": null,
      "outputs": []
    },
    {
      "cell_type": "code",
      "source": [
        "x1 = [min(X[:,0]), max(X[:,0])]\n",
        "m = -theta[0]/theta[1]\n",
        "c = -bias/theta[1]\n",
        "x2 = m*x1 + c\n",
        "    \n",
        "# Plotting\n",
        "fig = plt.figure(figsize=(10,8))\n",
        "#plt.scatter(X[:,0], X[:,1], c = y)\n",
        "plt.scatter(X[:,0], X[:,1], c = pred(X))\n",
        "# plt.plot(X[:, 0][y==0], X[:, 1][y==0], \"g^\")\n",
        "# plt.plot(X[:, 0][y==1], X[:, 1][y==1], \"bs\")\n",
        "plt.xlabel(\"feature 1\")\n",
        "plt.ylabel(\"feature 2\")\n",
        "plt.title('Decision Boundary')\n",
        "plt.plot(x1, x2, 'r-')"
      ],
      "metadata": {
        "colab": {
          "base_uri": "https://localhost:8080/",
          "height": 530
        },
        "id": "HZOrL39C_2m9",
        "outputId": "d29d4216-9cf1-4c5b-ea06-f577a614dcb9"
      },
      "execution_count": null,
      "outputs": [
        {
          "output_type": "execute_result",
          "data": {
            "text/plain": [
              "[<matplotlib.lines.Line2D at 0x7fef2215c190>]"
            ]
          },
          "metadata": {},
          "execution_count": 224
        },
        {
          "output_type": "display_data",
          "data": {
            "text/plain": [
              "<Figure size 720x576 with 1 Axes>"
            ],
            "image/png": "[encoded data removed]"
          },
          "metadata": {
            "needs_background": "light"
          }
        }
      ]
    },
    {
      "cell_type": "code",
      "source": [
        "tp,tn,fp,fn = 0,0,0,0\n",
        "for i in range(len(y)):\n",
        "  if y[i] == 1 and pred(X[i]) == 1:\n",
        "    tp += 1\n",
        "  elif y[i] == 1 and pred(X[i]) == 0:\n",
        "    fn += 1\n",
        "  elif y[i] == 0 and pred(X[i]) == 1:\n",
        "    fp += 1\n",
        "  elif y[i] == 0 and pred(X[i]) == 0:\n",
        "    tn += 1\n",
        "precision = tp/(tp+fp)\n",
        "recall = tp/(tp+fn)\n",
        "f1_score = 2*precision*recall/(precision+recall)\n",
        "print(precision,recall,f1_score)"
      ],
      "metadata": {
        "colab": {
          "base_uri": "https://localhost:8080/"
        },
        "id": "BIrp2EK1AkxV",
        "outputId": "49293c71-6ebb-4cef-e0c0-6e4b48d2684a"
      },
      "execution_count": null,
      "outputs": [
        {
          "output_type": "stream",
          "name": "stdout",
          "text": [
            "1.0 1.0 1.0\n"
          ]
        }
      ]
    }
  ]
}