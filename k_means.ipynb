{
  "nbformat": 4,
  "nbformat_minor": 0,
  "metadata": {
    "colab": {
      "provenance": [],
      "collapsed_sections": []
    },
    "kernelspec": {
      "name": "python3",
      "display_name": "Python 3"
    },
    "language_info": {
      "name": "python"
    }
  },
  "cells": [
    {
      "cell_type": "code",
      "execution_count": null,
      "metadata": {
        "id": "KlcJkbMa70kc"
      },
      "outputs": [],
      "source": [
        "import numpy as np\n",
        "import matplotlib.pyplot as plt"
      ]
    },
    {
      "cell_type": "code",
      "source": [
        "data = np.random.randint(0,10,size =(10,2))"
      ],
      "metadata": {
        "id": "Ry-NE4G7AQsa"
      },
      "execution_count": null,
      "outputs": []
    },
    {
      "cell_type": "code",
      "source": [
        "centeroid = np.random.rand(2,2)*10"
      ],
      "metadata": {
        "id": "MSaEyxDXOF-9"
      },
      "execution_count": null,
      "outputs": []
    },
    {
      "cell_type": "code",
      "source": [
        "data"
      ],
      "metadata": {
        "colab": {
          "base_uri": "https://localhost:8080/"
        },
        "id": "-yg2RW_uQXc_",
        "outputId": "7d819f3f-339e-4ab7-e07d-fc058cb80445"
      },
      "execution_count": null,
      "outputs": [
        {
          "output_type": "execute_result",
          "data": {
            "text/plain": [
              "array([[7, 4],\n",
              "       [0, 5],\n",
              "       [2, 8],\n",
              "       [8, 6],\n",
              "       [1, 3],\n",
              "       [9, 6],\n",
              "       [2, 4],\n",
              "       [5, 8],\n",
              "       [9, 0],\n",
              "       [4, 1]])"
            ]
          },
          "metadata": {},
          "execution_count": 143
        }
      ]
    },
    {
      "cell_type": "code",
      "source": [
        "plt.scatter(data[:,:1],data[:,1:])\n",
        "plt.scatter(centeroid[:, :1], centeroid[:, 1:])"
      ],
      "metadata": {
        "colab": {
          "base_uri": "https://localhost:8080/",
          "height": 282
        },
        "id": "uh4hrU-xAV5I",
        "outputId": "f7958b74-da2b-4084-ad7b-f66be615a7db"
      },
      "execution_count": null,
      "outputs": [
        {
          "output_type": "execute_result",
          "data": {
            "text/plain": [
              "<matplotlib.collections.PathCollection at 0x7f2ce5da6410>"
            ]
          },
          "metadata": {},
          "execution_count": 174
        },
        {
          "output_type": "display_data",
          "data": {
            "text/plain": [
              "<Figure size 432x288 with 1 Axes>"
            ],
            "image/png": "[encoded data removed]"
          },
          "metadata": {
            "needs_background": "light"
          }
        }
      ]
    },
    {
      "cell_type": "code",
      "source": [
        "def eucd_dist(p, q):\n",
        "  return np.sqrt(np.sum(np.power(p - q, 2), 1))"
      ],
      "metadata": {
        "id": "yZ8RlujZL7DN"
      },
      "execution_count": null,
      "outputs": []
    },
    {
      "cell_type": "code",
      "source": [
        "C =  np.zeros((10,2))"
      ],
      "metadata": {
        "id": "Y2vmIrEtHpdf"
      },
      "execution_count": null,
      "outputs": []
    },
    {
      "cell_type": "code",
      "source": [
        "a = eucd_dist(data,centeroid[0])\n",
        "b = eucd_dist(data,centeroid[1])\n",
        "minn = np.minimum(a, b)\n",
        "for i in range(10):\n",
        "  \n",
        "  if minn[i] == a[i] :\n",
        "    C[i][0] = a[i]\n",
        "  else: C[i][1] = b[i] \n",
        "\n"
      ],
      "metadata": {
        "id": "V_gA20R_OVAo"
      },
      "execution_count": null,
      "outputs": []
    },
    {
      "cell_type": "code",
      "source": [
        "minn"
      ],
      "metadata": {
        "colab": {
          "base_uri": "https://localhost:8080/"
        },
        "id": "xsnJ0o_QS_94",
        "outputId": "c94fb750-fed2-4c3e-d7a2-a293b788e5c2"
      },
      "execution_count": null,
      "outputs": [
        {
          "output_type": "execute_result",
          "data": {
            "text/plain": [
              "array([0.16666667, 1.25      , 3.09232922, 2.08832735, 2.01556444,\n",
              "       2.71313677, 1.25      , 4.32370726, 4.62180821, 4.36208411])"
            ]
          },
          "metadata": {},
          "execution_count": 167
        }
      ]
    },
    {
      "cell_type": "code",
      "source": [
        "a"
      ],
      "metadata": {
        "colab": {
          "base_uri": "https://localhost:8080/"
        },
        "id": "O5jf_IwPPuiQ",
        "outputId": "71ab53bb-21b3-46cd-b551-6e9c27eac0ba"
      },
      "execution_count": null,
      "outputs": [
        {
          "output_type": "execute_result",
          "data": {
            "text/plain": [
              "array([0.16666667, 7.04942866, 6.30035272, 2.08832735, 6.11237361,\n",
              "       2.71313677, 5.00277701, 4.32370726, 4.62180821, 4.36208411])"
            ]
          },
          "metadata": {},
          "execution_count": 168
        }
      ]
    },
    {
      "cell_type": "code",
      "source": [
        "b"
      ],
      "metadata": {
        "colab": {
          "base_uri": "https://localhost:8080/"
        },
        "id": "__tCtXu5P6sf",
        "outputId": "2a60b420-8130-4066-cc02-bd227c0a577c"
      },
      "execution_count": null,
      "outputs": [
        {
          "output_type": "execute_result",
          "data": {
            "text/plain": [
              "array([5.83630876, 1.25      , 3.09232922, 6.82367203, 2.01556444,\n",
              "       7.8142498 , 1.25      , 4.80234318, 9.22293337, 4.85412196])"
            ]
          },
          "metadata": {},
          "execution_count": 169
        }
      ]
    },
    {
      "cell_type": "code",
      "source": [
        "C"
      ],
      "metadata": {
        "colab": {
          "base_uri": "https://localhost:8080/"
        },
        "id": "N2NYBTx_QFb3",
        "outputId": "03981891-695d-4f85-8b08-68bb01c06932"
      },
      "execution_count": null,
      "outputs": [
        {
          "output_type": "execute_result",
          "data": {
            "text/plain": [
              "array([[0.16666667, 0.        ],\n",
              "       [0.        , 1.25      ],\n",
              "       [0.        , 3.09232922],\n",
              "       [2.08832735, 0.        ],\n",
              "       [0.        , 2.01556444],\n",
              "       [2.71313677, 0.        ],\n",
              "       [0.        , 1.25      ],\n",
              "       [4.32370726, 0.        ],\n",
              "       [4.62180821, 0.        ],\n",
              "       [4.36208411, 0.        ]])"
            ]
          },
          "metadata": {},
          "execution_count": 170
        }
      ]
    },
    {
      "cell_type": "code",
      "source": [
        "#updates centroid\n",
        "x = np.zeros((1,2))\n",
        "y = np.zeros((1,2))\n",
        "count = 0\n",
        "for i in range(10):\n",
        "  if C[i][0] != 0:\n",
        "    x += data[i] \n",
        "    count += 1\n",
        "  else:\n",
        "     y += data[i]\n",
        "\n",
        "centeroid[0] = x/count       \n",
        "centeroid[1] = y/(10 - count)\n"
      ],
      "metadata": {
        "id": "MImxOcCC-hP1"
      },
      "execution_count": null,
      "outputs": []
    },
    {
      "cell_type": "code",
      "source": [
        "centeroid"
      ],
      "metadata": {
        "colab": {
          "base_uri": "https://localhost:8080/"
        },
        "id": "IXv3ZtTuPkTI",
        "outputId": "bcfef6ca-4ff7-4a38-880a-258514a4797e"
      },
      "execution_count": null,
      "outputs": [
        {
          "output_type": "execute_result",
          "data": {
            "text/plain": [
              "array([[7.        , 4.16666667],\n",
              "       [1.25      , 5.        ]])"
            ]
          },
          "metadata": {},
          "execution_count": 179
        }
      ]
    },
    {
      "cell_type": "code",
      "source": [
        "c = np.zeros((10,1))\n",
        "for i in range(10):\n",
        "  if C[i][0] != 0:\n",
        "    c[i] = 1\n",
        "  else: c[i] = 0  "
      ],
      "metadata": {
        "id": "7TKwib-LOTb4"
      },
      "execution_count": null,
      "outputs": []
    },
    {
      "cell_type": "code",
      "source": [
        "plt.scatter(data[:,:1],data[:,1:],c=c)\n",
        "plt.scatter(centeroid[:, :1], centeroid[:, 1:])"
      ],
      "metadata": {
        "colab": {
          "base_uri": "https://localhost:8080/",
          "height": 282
        },
        "id": "lLeABjjeGEjY",
        "outputId": "34b2f357-4e8f-40b0-a8df-783264725573"
      },
      "execution_count": null,
      "outputs": [
        {
          "output_type": "execute_result",
          "data": {
            "text/plain": [
              "<matplotlib.collections.PathCollection at 0x7f2ce5d91cd0>"
            ]
          },
          "metadata": {},
          "execution_count": 176
        },
        {
          "output_type": "display_data",
          "data": {
            "text/plain": [
              "<Figure size 432x288 with 1 Axes>"
            ],
            "image/png": "[encoded data removed]"
          },
          "metadata": {
            "needs_background": "light"
          }
        }
      ]
    }
  ]
}