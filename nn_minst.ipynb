{
  "nbformat": 4,
  "nbformat_minor": 0,
  "metadata": {
    "colab": {
      "provenance": [],
      "collapsed_sections": []
    },
    "kernelspec": {
      "name": "python3",
      "display_name": "Python 3"
    },
    "language_info": {
      "name": "python"
    }
  },
  "cells": [
    {
      "cell_type": "code",
      "execution_count": null,
      "metadata": {
        "id": "Oyp3t82iOg74"
      },
      "outputs": [],
      "source": [
        "import numpy as np\n",
        "import matplotlib.pyplot as plt\n",
        "import pandas as pd\n"
      ]
    },
    {
      "cell_type": "code",
      "source": [
        "data = pd.read_csv('mnist_test.csv')"
      ],
      "metadata": {
        "id": "Zrhhqes4Tahr"
      },
      "execution_count": null,
      "outputs": []
    },
    {
      "cell_type": "code",
      "source": [
        "data = np.array(data)\n",
        "np.random.shuffle(data)"
      ],
      "metadata": {
        "id": "VdhYVf9uToHa"
      },
      "execution_count": null,
      "outputs": []
    },
    {
      "cell_type": "code",
      "source": [
        "m, n = data.shape\n",
        "data_test = data[0:1000,:].T\n",
        "X_test = data_test[1:1000,:]/255\n",
        "y_test = data_test[0]\n",
        "\n",
        "data_train = data[1000:,:].T\n",
        "X_train = data_train[1:,:]/255\n",
        "y_train = data_train[0]  "
      ],
      "metadata": {
        "id": "nOakoBsaejpy"
      },
      "execution_count": null,
      "outputs": []
    },
    {
      "cell_type": "code",
      "source": [
        "def ReLU(Z):\n",
        "  return np.maximum(0,Z)\n",
        "\n",
        "def softmax(Z):\n",
        "  return np.exp(Z)/np.sum(np.exp(Z),0)  \n",
        "\n",
        "def init_prams():\n",
        "  W1 = np.random.rand(10,784) - 0.5\n",
        "  b1 = np.random.rand(10,1) - 0.5\n",
        "\n",
        "  W2 = np.random.rand(10,10) - 0.5\n",
        "  b2 = np.random.rand(10,1) - 0.5\n",
        "\n",
        "  return W1, b1, W2, b2\n",
        "\n",
        "def forward_prop(W1, b1, W2, b2, X):\n",
        "  Z1 = np.dot(W1,X) + b1\n",
        "  A1 = ReLU(Z1)  \n",
        "\n",
        "  Z2 = np.dot(W2,A1) + b2\n",
        "  A2 = softmax(Z2) \n",
        "\n",
        "  return Z1, A1, Z2, A2\n",
        "\n",
        "def one_hot(y):\n",
        "  one_hot_y = np.zeros((y.size,y.max() + 1))\n",
        "  one_hot_y[np.arange(y.size),y] = 1\n",
        "  return one_hot_y.T\n",
        "\n",
        "def deriv_ReLU(Z):\n",
        "  return Z>0\n",
        "\n",
        "def back_prop(Z1, A1, Z2, A2, W2, X, y):\n",
        "  m = y.size\n",
        "  one_hot_y = one_hot(y)  \n",
        "  dZ2 = A2 - one_hot_y\n",
        "  dW2 = 1/m * np.dot(dZ2, A1.T)\n",
        "  db2 = 1/m * np.sum(dZ2)\n",
        "  dZ1 = np.dot(W2.T, dZ2) * deriv_ReLU(Z1)\n",
        "\n",
        "  dW1 = 1/m * np.dot(dZ1, X.T)\n",
        "  db1 = 1/m * np.sum(dZ1)\n",
        "\n",
        "  return dW1, db1, dW2, db2 \n",
        "\n",
        "def update_prams(W1, b1, W2, b2, dW1, db1, dW2, db2, alpha ):\n",
        "\n",
        "  W1 = W1 - alpha*dW1\n",
        "  b1 = b1 - alpha*db1\n",
        "\n",
        "  W2 = W2 - alpha*dW2\n",
        "  b2 = b2 - alpha*db2\n",
        "\n",
        "  return W1, b1, W2, b2\n",
        "  \n",
        "\n"
      ],
      "metadata": {
        "id": "W_zwP-Jxkcuh"
      },
      "execution_count": null,
      "outputs": []
    },
    {
      "cell_type": "code",
      "source": [
        "def get_predictions(A2):\n",
        "    return np.argmax(A2, 0)\n",
        "\n",
        "def get_accuracy(predictions, y):\n",
        "  print(predictions  ,y)\n",
        "  return np.sum(predictions == y) / y.size\n",
        "\n",
        "def gradient_descent(X, y, iterations, alpha):\n",
        "\n",
        "  W1, b1, W2, b2 = init_prams()\n",
        "  for i in range(iterations):\n",
        "    Z1, A1, Z2, A2 = forward_prop(W1, b1, W2, b2, X)\n",
        "    dW1, db1, dW2, db2 = back_prop(Z1, A1, Z2, A2, W2, X, y)\n",
        "    W1, b1, W2, b2 = update_prams(W1, b1, W2, b2, dW1, db1, dW2, db2, alpha)\n",
        "\n",
        "    if i % 20 == 0:\n",
        "      print(\"iterations:  \",i)\n",
        "      print(\"accuracy:   \",get_accuracy(get_predictions(A2), y))\n",
        "  return W1, b1, W2, b2"
      ],
      "metadata": {
        "id": "PhqWFZAIvrSi"
      },
      "execution_count": null,
      "outputs": []
    },
    {
      "cell_type": "code",
      "source": [
        "W1, b1, W2, b2 = gradient_descent(X_train, y_train, 500, 0.5)"
      ],
      "metadata": {
        "id": "B4S6hknMyDjq"
      },
      "execution_count": null,
      "outputs": []
    },
    {
      "cell_type": "code",
      "source": [
        "#test\n",
        "_, _, _, A2 = forward_prop(W1, b1, W2, b2, X_test[:,1:2])"
      ],
      "metadata": {
        "id": "eHVsfCjw7QPs"
      },
      "execution_count": null,
      "outputs": []
    },
    {
      "cell_type": "code",
      "source": [
        "def make_predictions(X, W1, b1, W2, b2):\n",
        "    _, _, _, A2 = forward_prop(W1, b1, W2, b2, X)\n",
        "    predictions = get_predictions(A2)\n",
        "    return predictions\n",
        "\n",
        "def test_prediction(index, W1, b1, W2, b2):\n",
        "    current_image = X_train[:, index, None]\n",
        "    prediction = make_predictions(X_train[:, index, None], W1, b1, W2, b2)\n",
        "    label = y_test[index]\n",
        "    print(\"Prediction: \", prediction)\n",
        "    print(\"Label: \", label)\n",
        "    \n",
        "    current_image = current_image.reshape((28, 28)) * 255\n",
        "    plt.gray()\n",
        "    plt.imshow(current_image, interpolation='nearest')\n",
        "    plt.show()"
      ],
      "metadata": {
        "id": "-okdm5PCD_nF"
      },
      "execution_count": null,
      "outputs": []
    },
    {
      "cell_type": "code",
      "source": [
        "test_prediction(230,W1,b1,W2,b2)"
      ],
      "metadata": {
        "colab": {
          "base_uri": "https://localhost:8080/",
          "height": 300
        },
        "id": "MwNtuKSWECtb",
        "outputId": "4b5a775f-6d04-43c8-a2dd-908a156ff682"
      },
      "execution_count": null,
      "outputs": [
        {
          "output_type": "stream",
          "name": "stdout",
          "text": [
            "Prediction:  [7]\n",
            "Label:  7\n"
          ]
        },
        {
          "output_type": "display_data",
          "data": {
            "text/plain": [
              "<Figure size 432x288 with 1 Axes>"
            ],
            "image/png": "[encoded data removed]"
          },
          "metadata": {
            "needs_background": "light"
          }
        }
      ]
    },
    {
      "cell_type": "code",
      "source": [
        "dev_predictions = make_predictions(X_test, W1, b1, W2, b2)\n",
        "get_accuracy(dev_predictions, y_test)"
      ],
      "metadata": {
        "colab": {
          "base_uri": "https://localhost:8080/"
        },
        "id": "1hWNX-sxE-ts",
        "outputId": "374fbecf-6974-44dc-a9c9-2f76d16b04a8"
      },
      "execution_count": null,
      "outputs": [
        {
          "output_type": "stream",
          "name": "stdout",
          "text": [
            "[8 8 1 2 6 0 2 5 0 1 5 8 8 3 7 2 8 5 0 6 0 4 3 2 2 7 3 4 1 9 1 9 0 9 5 3 6\n",
            " 6 0 0 0 7 6 7 6 7 8 5 8 4 0 0 8 1 0 2 8 9 6 4 4 8 5 1 0 7 5 7 3 8 8 9 8 1\n",
            " 6 0 3 7 4 7 6 1 1 1 7 2 0 4 8 4 4 5 5 5 9 6 8 7 4 7 0 3 9 1 5 2 7 0 7 8 4\n",
            " 2 4 7 3 7 7 4 6 5 3 9 5 4 7 7 9 6 2 7 7 3 7 8 1 3 8 0 5 6 6 9 6 2 2 2 1 4\n",
            " 1 5 2 8 3 2 8 5 1 0 2 8 8 8 7 7 4 0 6 6 1 6 3 8 4 8 8 1 6 4 1 0 7 1 0 2 3\n",
            " 1 2 7 0 0 9 7 7 0 8 2 4 4 1 0 1 8 8 7 4 4 9 0 8 2 1 3 5 0 2 4 3 8 5 2 9 9\n",
            " 0 2 5 1 4 9 1 4 0 9 4 3 7 7 0 0 1 6 5 5 9 2 4 1 2 3 7 7 7 4 9 0 0 0 0 8 1\n",
            " 0 4 8 1 7 0 6 1 0 3 1 2 7 9 3 1 2 6 0 3 7 7 4 5 6 8 6 0 2 5 0 0 6 8 2 6 9\n",
            " 0 5 0 6 4 1 1 6 3 2 3 5 5 4 2 0 0 5 3 4 4 1 1 0 3 7 1 9 0 8 1 2 5 6 8 7 9\n",
            " 2 6 4 2 1 8 7 5 1 9 5 4 4 0 9 2 8 2 1 0 5 3 1 9 0 7 6 9 7 7 8 4 0 3 9 7 4\n",
            " 7 8 4 7 7 1 3 3 8 3 9 0 9 3 5 0 4 1 3 2 3 5 9 9 8 7 7 6 8 5 2 1 0 6 4 7 6\n",
            " 7 5 7 2 4 0 9 1 2 3 9 8 6 1 2 5 2 7 8 5 9 6 9 4 8 7 6 1 7 4 2 1 1 1 5 6 7\n",
            " 6 9 1 7 0 3 0 3 1 9 0 5 8 3 6 1 8 4 8 4 7 0 4 0 7 2 2 0 1 4 9 4 1 1 8 1 8\n",
            " 1 1 4 8 5 4 5 4 7 5 7 0 0 9 9 2 1 1 2 5 3 4 9 8 3 8 9 4 3 4 6 8 5 7 9 4 8\n",
            " 1 2 8 3 8 6 0 0 7 7 8 7 1 3 5 2 1 1 2 0 1 4 2 7 0 7 8 4 7 0 0 3 8 2 2 1 5\n",
            " 7 0 3 3 7 6 4 9 2 4 2 9 5 9 5 0 8 9 4 0 3 0 8 1 6 0 7 4 2 5 0 6 8 3 6 9 4\n",
            " 0 1 2 5 5 2 5 7 8 8 7 1 2 4 7 5 8 2 4 8 0 0 5 1 7 8 6 5 3 3 1 9 8 5 0 9 4\n",
            " 1 7 4 9 5 4 4 9 6 5 2 5 0 4 0 2 0 3 5 9 6 5 7 1 9 1 2 2 8 3 1 8 6 9 3 0 3\n",
            " 3 8 3 6 8 0 2 8 1 5 6 7 3 7 5 4 7 7 2 3 3 7 4 7 1 2 7 0 3 7 0 9 7 2 3 4 5\n",
            " 3 8 6 5 6 1 2 5 6 0 5 3 0 9 8 8 6 0 2 7 7 5 9 3 0 1 9 0 9 4 1 4 5 2 7 0 3\n",
            " 5 3 1 1 2 8 4 5 3 8 0 7 6 8 1 2 6 6 2 1 5 7 9 0 2 3 0 2 1 3 4 3 2 3 1 3 3\n",
            " 7 6 2 8 5 5 1 3 5 8 6 7 1 4 7 0 9 0 7 9 3 5 0 6 5 8 9 1 9 6 4 2 4 2 7 8 4\n",
            " 1 0 2 2 5 0 2 4 3 9 8 4 1 8 4 7 3 4 0 1 1 3 8 0 3 0 9 5 8 4 3 9 3 6 7 6 8\n",
            " 3 8 4 4 4 2 9 8 9 6 9 9 0 1 7 1 9 8 3 4 3 6 1 8 6 9 2 8 1 0 8 8 0 9 9 8 1\n",
            " 1 3 0 2 2 5 3 2 6 9 6 2 6 3 0 7 6 4 0 0 2 3 5 7 7 7 4 6 4 1 5 0 8 9 4 5 0\n",
            " 0 2 0 7 7 2 0 9 0 3 1 9 5 1 3 2 0 7 7 4 7 6 4 2 3 0 1 6 1 6 0 3 7 0 6 9 2\n",
            " 8 5 2 6 4 6 2 4 3 2 4 5 0 2 5 3 7 7 3 5 9 4 8 0 9 4 0 4 3 2 0 3 2 7 0 2 9\n",
            " 7] [8 8 1 2 6 0 2 5 0 1 5 8 8 3 7 2 8 5 6 6 0 4 3 2 2 7 3 4 1 9 1 9 0 9 5 3 6\n",
            " 6 0 0 0 7 6 7 6 7 8 5 5 4 0 0 8 1 0 2 8 9 6 4 4 8 5 1 0 7 5 7 3 8 5 9 2 1\n",
            " 6 0 3 7 9 7 6 1 1 1 7 2 0 4 8 4 4 5 5 5 9 6 8 7 4 7 0 3 9 9 5 2 7 0 7 8 4\n",
            " 2 4 7 3 7 7 4 6 3 3 9 5 9 7 7 0 6 2 7 7 3 3 8 8 3 3 0 1 6 6 9 6 2 2 2 1 4\n",
            " 1 5 2 2 3 2 8 5 1 0 2 8 8 5 7 7 4 0 6 6 1 6 3 8 4 8 7 1 6 4 1 0 7 1 3 2 3\n",
            " 1 2 7 0 0 9 7 7 5 8 2 4 4 1 0 1 8 8 2 4 4 7 0 8 2 1 3 5 0 2 4 3 1 5 2 9 9\n",
            " 0 2 5 1 9 9 1 4 0 9 4 3 7 7 0 0 1 6 5 3 9 2 4 1 2 3 7 7 7 4 0 0 0 0 5 8 1\n",
            " 0 4 8 1 8 0 6 1 0 3 1 2 7 9 8 1 2 6 0 5 7 7 4 5 6 8 6 0 7 8 0 0 6 8 2 6 9\n",
            " 0 5 0 6 4 1 1 6 3 2 3 5 5 4 2 0 0 5 5 4 4 9 1 0 3 7 1 9 0 8 1 8 3 6 8 7 4\n",
            " 2 6 4 2 1 1 7 9 1 9 5 4 4 0 9 2 3 7 3 0 5 3 1 9 0 7 6 9 7 7 1 4 0 3 9 7 4\n",
            " 7 8 4 7 7 1 3 3 3 3 9 0 9 3 5 0 4 1 3 2 3 5 9 9 8 7 7 6 8 5 2 1 0 6 4 7 6\n",
            " 7 5 7 2 4 0 9 1 1 5 8 8 6 1 4 5 2 7 8 5 9 6 9 4 8 7 6 1 7 4 2 1 1 1 5 5 8\n",
            " 6 9 1 7 0 3 6 3 1 9 0 5 8 3 6 1 8 4 8 4 7 0 4 0 7 2 2 0 1 4 9 4 1 1 8 1 8\n",
            " 1 1 4 8 5 9 5 5 8 5 7 0 0 9 9 2 1 1 2 5 2 4 9 8 3 8 9 4 3 4 6 8 5 7 9 4 8\n",
            " 1 2 8 3 2 6 0 0 7 7 8 7 1 3 5 2 1 1 3 0 1 4 2 7 0 7 8 4 7 0 0 3 8 7 2 1 1\n",
            " 7 0 3 3 7 8 4 9 2 4 2 9 5 9 5 0 8 9 2 0 5 0 8 1 6 0 7 4 2 5 0 6 5 3 6 9 4\n",
            " 2 1 2 5 5 2 0 7 8 8 7 1 2 4 7 5 8 2 4 2 0 6 5 1 7 5 6 5 3 3 1 9 8 5 0 9 4\n",
            " 1 7 4 9 5 9 4 4 6 8 2 5 9 4 0 2 0 3 0 9 6 5 7 1 9 1 2 2 8 3 1 8 6 9 3 0 3\n",
            " 3 5 3 6 8 0 2 8 1 5 6 3 3 7 5 4 7 7 2 3 3 7 4 7 1 2 7 8 3 7 0 7 7 2 3 4 5\n",
            " 3 8 6 5 6 5 2 5 6 0 5 3 0 9 2 8 6 0 2 7 7 5 9 3 0 1 9 0 9 4 1 4 5 2 7 0 3\n",
            " 5 3 1 1 2 8 4 5 3 8 0 7 6 3 1 2 6 6 2 1 6 7 9 2 2 8 0 2 1 3 4 5 2 3 1 3 9\n",
            " 7 6 2 8 5 8 1 3 5 8 6 7 1 4 7 0 9 0 7 9 3 5 9 6 5 6 9 2 5 6 5 2 4 2 7 8 4\n",
            " 1 0 2 2 5 0 2 4 3 9 8 4 1 8 4 7 3 2 0 1 1 3 8 0 3 0 9 5 6 2 3 9 3 5 7 6 3\n",
            " 3 8 4 2 4 2 9 8 9 6 9 9 0 1 7 1 9 6 3 4 3 6 1 8 6 9 2 8 1 0 8 8 0 9 4 0 1\n",
            " 1 3 0 2 2 3 3 2 6 9 6 2 6 3 0 7 5 4 0 0 2 3 5 7 7 7 4 6 4 1 5 0 8 9 6 5 0\n",
            " 0 2 0 7 7 2 0 9 0 1 1 9 5 1 3 2 0 7 7 4 7 6 4 2 3 0 1 6 1 3 0 3 7 0 6 9 2\n",
            " 8 5 1 6 4 6 2 4 3 2 4 5 0 2 5 3 7 7 3 5 9 4 8 0 9 4 0 9 3 2 0 3 8 7 0 2 9\n",
            " 7]\n"
          ]
        },
        {
          "output_type": "execute_result",
          "data": {
            "text/plain": [
              "0.894"
            ]
          },
          "metadata": {},
          "execution_count": 162
        }
      ]
    }
  ]
}