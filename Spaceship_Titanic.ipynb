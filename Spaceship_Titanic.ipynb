{
  "nbformat": 4,
  "nbformat_minor": 0,
  "metadata": {
    "colab": {
      "provenance": []
    },
    "kernelspec": {
      "name": "python3",
      "display_name": "Python 3"
    },
    "language_info": {
      "name": "python"
    }
  },
  "cells": [
    {
      "cell_type": "code",
      "execution_count": null,
      "metadata": {
        "id": "LP_CwOG0cU_n"
      },
      "outputs": [],
      "source": [
        "import numpy as np\n",
        "import matplotlib.pyplot as plt\n",
        "import pandas as pd"
      ]
    },
    {
      "cell_type": "code",
      "source": [
        "train = pd.read_csv('train.csv')"
      ],
      "metadata": {
        "id": "IXlIY3Ft2ARv"
      },
      "execution_count": null,
      "outputs": []
    },
    {
      "cell_type": "code",
      "source": [
        "train['luxury'] = train.iloc[:, 6:12].sum(axis = 1)"
      ],
      "metadata": {
        "id": "DR2U6LsmHzx6"
      },
      "execution_count": null,
      "outputs": []
    },
    {
      "cell_type": "code",
      "source": [
        "train.sample(frac=1).reset_index(drop=True)\n",
        "y = train.pop('Transported')\n",
        "X = train.drop(columns = ['Name', 'PassengerId', 'RoomService', 'FoodCourt', 'ShoppingMall', 'Spa', 'VRDeck'])\n"
      ],
      "metadata": {
        "id": "LpZzvOGF2DTn"
      },
      "execution_count": null,
      "outputs": []
    },
    {
      "cell_type": "code",
      "source": [
        "subset = [ 'HomePlanet', 'CryoSleep', 'Cabin', 'Destination', 'VIP']\n",
        "X.loc[:, subset] = X.loc[:, subset].fillna(method= 'ffill')\n"
      ],
      "metadata": {
        "id": "5UDS-9YAVGnO"
      },
      "execution_count": null,
      "outputs": []
    },
    {
      "cell_type": "code",
      "source": [
        "X.Cabin = (X.Cabin).apply(lambda x: str(x).split(\"/\")[0])"
      ],
      "metadata": {
        "id": "9qa2AmjSK6Oe"
      },
      "execution_count": null,
      "outputs": []
    },
    {
      "cell_type": "code",
      "source": [
        "X.isna().sum()"
      ],
      "metadata": {
        "colab": {
          "base_uri": "https://localhost:8080/"
        },
        "id": "tr-A0koFWelO",
        "outputId": "0be451b0-26d2-48eb-fba4-20d376d11118"
      },
      "execution_count": null,
      "outputs": [
        {
          "output_type": "execute_result",
          "data": {
            "text/plain": [
              "HomePlanet       0\n",
              "CryoSleep        0\n",
              "Cabin            0\n",
              "Destination      0\n",
              "Age            179\n",
              "VIP              0\n",
              "luxury           0\n",
              "dtype: int64"
            ]
          },
          "metadata": {},
          "execution_count": 8
        }
      ]
    },
    {
      "cell_type": "code",
      "source": [
        "from sklearn.model_selection import train_test_split\n",
        "X_train, X_test, y_train, y_test  = train_test_split(X, y, test_size = 0.2 )"
      ],
      "metadata": {
        "id": "Fk0sXUiGE9wq"
      },
      "execution_count": null,
      "outputs": []
    },
    {
      "cell_type": "code",
      "source": [
        "X_train['Age'] = X_train['Age'].fillna(X_train['Age'].mean())"
      ],
      "metadata": {
        "id": "7z6U4-1ObVmg"
      },
      "execution_count": null,
      "outputs": []
    },
    {
      "cell_type": "code",
      "source": [
        "X_train = pd.get_dummies(X_train, columns = ['HomePlanet', 'Cabin', 'Destination'])"
      ],
      "metadata": {
        "id": "rbHfEptLdJsv"
      },
      "execution_count": null,
      "outputs": []
    },
    {
      "cell_type": "code",
      "source": [
        "from sklearn.preprocessing import StandardScaler\n",
        "scaler = StandardScaler()\n",
        "X_train_scaled = scaler.fit_transform(X_train) \n"
      ],
      "metadata": {
        "id": "NPdFQ-Y1dwwv"
      },
      "execution_count": null,
      "outputs": []
    },
    {
      "cell_type": "code",
      "source": [
        "X_train_scaled"
      ],
      "metadata": {
        "colab": {
          "base_uri": "https://localhost:8080/"
        },
        "id": "-quCE3VDd8wf",
        "outputId": "22ac7c54-98ff-4752-8a5e-0f94fd4aafa3"
      },
      "execution_count": null,
      "outputs": [
        {
          "output_type": "execute_result",
          "data": {
            "text/plain": [
              "array([[ 1.33727032,  0.85084976, -0.15296914, ..., -0.51438659,\n",
              "        -0.32652716,  0.66336242],\n",
              "       [-0.74779197, -0.12603816, -0.15296914, ..., -0.51438659,\n",
              "        -0.32652716,  0.66336242],\n",
              "       [-0.74779197,  1.33929372, -0.15296914, ...,  1.94406313,\n",
              "        -0.32652716, -1.50747159],\n",
              "       ...,\n",
              "       [ 1.33727032, -0.96337066, -0.15296914, ..., -0.51438659,\n",
              "         3.06253236, -1.50747159],\n",
              "       [-0.74779197,  0.64151663, -0.15296914, ..., -0.51438659,\n",
              "        -0.32652716,  0.66336242],\n",
              "       [-0.74779197,  1.75795997, -0.15296914, ..., -0.51438659,\n",
              "        -0.32652716,  0.66336242]])"
            ]
          },
          "metadata": {},
          "execution_count": 16
        }
      ]
    },
    {
      "cell_type": "code",
      "source": [
        "from sklearn.svm import SVC\n",
        "regressor = SVC(kernel = 'rbf')\n",
        "regressor.fit(X_train_scaled, y_train)"
      ],
      "metadata": {
        "colab": {
          "base_uri": "https://localhost:8080/"
        },
        "id": "b4htTWuWeDkH",
        "outputId": "5f12979d-271f-43e5-e749-78815a17c638"
      },
      "execution_count": null,
      "outputs": [
        {
          "output_type": "execute_result",
          "data": {
            "text/plain": [
              "SVC()"
            ]
          },
          "metadata": {},
          "execution_count": 17
        }
      ]
    },
    {
      "cell_type": "code",
      "source": [
        "from sklearn.metrics import accuracy_score\n",
        "#training accuracy\n",
        "y_pred = regressor.predict(X_train_scaled)\n",
        "accuracy_score(y_train, y_pred)"
      ],
      "metadata": {
        "colab": {
          "base_uri": "https://localhost:8080/"
        },
        "id": "9QPLnIAqeJV_",
        "outputId": "590e4592-e7c4-4257-9dc3-c5ced082376c"
      },
      "execution_count": null,
      "outputs": [
        {
          "output_type": "execute_result",
          "data": {
            "text/plain": [
              "0.7412999712395744"
            ]
          },
          "metadata": {},
          "execution_count": 18
        }
      ]
    },
    {
      "cell_type": "code",
      "source": [
        "X_test\n",
        "X_test['Age'] = X_test['Age'].fillna(X_test['Age'].mean())\n",
        "X_test = pd.get_dummies(X_test, columns = ['HomePlanet', 'Cabin', 'Destination'])\n"
      ],
      "metadata": {
        "id": "hSOGxhKietmn"
      },
      "execution_count": null,
      "outputs": []
    },
    {
      "cell_type": "code",
      "source": [
        "#test accuracy\n",
        "scaler = StandardScaler()\n",
        "X_test_scaled = scaler.fit_transform(X_test) \n",
        "y_pred = regressor.predict(X_test_scaled)\n",
        "\n",
        "accuracy_score(y_test, y_pred)"
      ],
      "metadata": {
        "colab": {
          "base_uri": "https://localhost:8080/"
        },
        "id": "bYa8iiA6eRhg",
        "outputId": "f9b0dc98-f64b-4ff3-a153-a12597fbcb04"
      },
      "execution_count": null,
      "outputs": [
        {
          "output_type": "execute_result",
          "data": {
            "text/plain": [
              "0.7423806785508913"
            ]
          },
          "metadata": {},
          "execution_count": 51
        }
      ]
    },
    {
      "cell_type": "code",
      "source": [
        "####\n",
        "###\n",
        "##\n",
        "#\n",
        "Submit"
      ],
      "metadata": {
        "id": "YdZ-zetDROxo"
      },
      "execution_count": null,
      "outputs": []
    },
    {
      "cell_type": "code",
      "source": [
        "testt= pd.read_csv('test.csv')"
      ],
      "metadata": {
        "id": "dTjwVCsMMCCP"
      },
      "execution_count": null,
      "outputs": []
    },
    {
      "cell_type": "code",
      "source": [
        "test['luxury'] = test.iloc[:, 6:12].sum(axis = 1)"
      ],
      "metadata": {
        "id": "BVgX_qwjMN0f"
      },
      "execution_count": null,
      "outputs": []
    },
    {
      "cell_type": "code",
      "source": [
        "test = test.drop(columns = ['Name', 'PassengerId', 'RoomService', 'FoodCourt', 'ShoppingMall', 'Spa', 'VRDeck'])"
      ],
      "metadata": {
        "id": "Gj1os7wmMZW3"
      },
      "execution_count": null,
      "outputs": []
    },
    {
      "cell_type": "code",
      "source": [
        "subset = [ 'HomePlanet', 'CryoSleep', 'Cabin', 'Destination', 'VIP']\n",
        "test.loc[:, subset] = test.loc[:, subset].fillna(method= 'ffill')\n"
      ],
      "metadata": {
        "id": "bE70ugs5Nm0_"
      },
      "execution_count": null,
      "outputs": []
    },
    {
      "cell_type": "code",
      "source": [
        "test.Cabin = (test.Cabin).apply(lambda x: str(x).split(\"/\")[0])"
      ],
      "metadata": {
        "id": "CvbiJTgiNZNH"
      },
      "execution_count": null,
      "outputs": []
    },
    {
      "cell_type": "code",
      "source": [
        "test"
      ],
      "metadata": {
        "colab": {
          "base_uri": "https://localhost:8080/",
          "height": 505
        },
        "id": "X_SfYN4mQUbo",
        "outputId": "487ba6fe-6d93-47c1-bbcd-f3e32f6be737"
      },
      "execution_count": null,
      "outputs": [
        {
          "output_type": "execute_result",
          "data": {
            "text/plain": [
              "      CryoSleep        Age    VIP  luxury  HomePlanet_Earth  \\\n",
              "0          True  27.000000  False     0.0                 1   \n",
              "1         False  19.000000  False  2832.0                 1   \n",
              "2          True  31.000000  False     0.0                 0   \n",
              "3         False  38.000000  False  7418.0                 0   \n",
              "4         False  20.000000  False   645.0                 1   \n",
              "...         ...        ...    ...     ...               ...   \n",
              "4272       True  34.000000  False     0.0                 1   \n",
              "4273      False  42.000000  False  1018.0                 1   \n",
              "4274       True  28.658146  False     0.0                 0   \n",
              "4275      False  28.658146  False  3203.0                 0   \n",
              "4276       True  43.000000  False     0.0                 1   \n",
              "\n",
              "      HomePlanet_Europa  HomePlanet_Mars  Cabin_A  Cabin_B  Cabin_C  Cabin_D  \\\n",
              "0                     0                0        0        0        0        0   \n",
              "1                     0                0        0        0        0        0   \n",
              "2                     1                0        0        0        1        0   \n",
              "3                     1                0        0        0        1        0   \n",
              "4                     0                0        0        0        0        0   \n",
              "...                 ...              ...      ...      ...      ...      ...   \n",
              "4272                  0                0        0        0        0        0   \n",
              "4273                  0                0        0        0        0        0   \n",
              "4274                  0                1        0        0        0        1   \n",
              "4275                  1                0        0        0        0        1   \n",
              "4276                  0                0        0        0        0        0   \n",
              "\n",
              "      Cabin_E  Cabin_F  Cabin_G  Cabin_T  Destination_55 Cancri e  \\\n",
              "0           0        0        1        0                        0   \n",
              "1           0        1        0        0                        0   \n",
              "2           0        0        0        0                        1   \n",
              "3           0        0        0        0                        0   \n",
              "4           0        1        0        0                        0   \n",
              "...       ...      ...      ...      ...                      ...   \n",
              "4272        0        0        1        0                        0   \n",
              "4273        0        0        1        0                        0   \n",
              "4274        0        0        0        0                        1   \n",
              "4275        0        0        0        0                        1   \n",
              "4276        0        0        1        0                        0   \n",
              "\n",
              "      Destination_PSO J318.5-22  Destination_TRAPPIST-1e  \n",
              "0                             0                        1  \n",
              "1                             0                        1  \n",
              "2                             0                        0  \n",
              "3                             0                        1  \n",
              "4                             0                        1  \n",
              "...                         ...                      ...  \n",
              "4272                          0                        1  \n",
              "4273                          0                        1  \n",
              "4274                          0                        0  \n",
              "4275                          0                        0  \n",
              "4276                          1                        0  \n",
              "\n",
              "[4277 rows x 18 columns]"
            ],
            "text/html": [
              "\n",
              "  <div id=\"df-a1fa87f1-0edf-493e-94da-8f1c66e2c7f8\">\n",
              "    <div class=\"colab-df-container\">\n",
              "      <div>\n",
              "<style scoped>\n",
              "    .dataframe tbody tr th:only-of-type {\n",
              "        vertical-align: middle;\n",
              "    }\n",
              "\n",
              "    .dataframe tbody tr th {\n",
              "        vertical-align: top;\n",
              "    }\n",
              "\n",
              "    .dataframe thead th {\n",
              "        text-align: right;\n",
              "    }\n",
              "</style>\n",
              "<table border=\"1\" class=\"dataframe\">\n",
              "  <thead>\n",
              "    <tr style=\"text-align: right;\">\n",
              "      <th></th>\n",
              "      <th>CryoSleep</th>\n",
              "      <th>Age</th>\n",
              "      <th>VIP</th>\n",
              "      <th>luxury</th>\n",
              "      <th>HomePlanet_Earth</th>\n",
              "      <th>HomePlanet_Europa</th>\n",
              "      <th>HomePlanet_Mars</th>\n",
              "      <th>Cabin_A</th>\n",
              "      <th>Cabin_B</th>\n",
              "      <th>Cabin_C</th>\n",
              "      <th>Cabin_D</th>\n",
              "      <th>Cabin_E</th>\n",
              "      <th>Cabin_F</th>\n",
              "      <th>Cabin_G</th>\n",
              "      <th>Cabin_T</th>\n",
              "      <th>Destination_55 Cancri e</th>\n",
              "      <th>Destination_PSO J318.5-22</th>\n",
              "      <th>Destination_TRAPPIST-1e</th>\n",
              "    </tr>\n",
              "  </thead>\n",
              "  <tbody>\n",
              "    <tr>\n",
              "      <th>0</th>\n",
              "      <td>True</td>\n",
              "      <td>27.000000</td>\n",
              "      <td>False</td>\n",
              "      <td>0.0</td>\n",
              "      <td>1</td>\n",
              "      <td>0</td>\n",
              "      <td>0</td>\n",
              "      <td>0</td>\n",
              "      <td>0</td>\n",
              "      <td>0</td>\n",
              "      <td>0</td>\n",
              "      <td>0</td>\n",
              "      <td>0</td>\n",
              "      <td>1</td>\n",
              "      <td>0</td>\n",
              "      <td>0</td>\n",
              "      <td>0</td>\n",
              "      <td>1</td>\n",
              "    </tr>\n",
              "    <tr>\n",
              "      <th>1</th>\n",
              "      <td>False</td>\n",
              "      <td>19.000000</td>\n",
              "      <td>False</td>\n",
              "      <td>2832.0</td>\n",
              "      <td>1</td>\n",
              "      <td>0</td>\n",
              "      <td>0</td>\n",
              "      <td>0</td>\n",
              "      <td>0</td>\n",
              "      <td>0</td>\n",
              "      <td>0</td>\n",
              "      <td>0</td>\n",
              "      <td>1</td>\n",
              "      <td>0</td>\n",
              "      <td>0</td>\n",
              "      <td>0</td>\n",
              "      <td>0</td>\n",
              "      <td>1</td>\n",
              "    </tr>\n",
              "    <tr>\n",
              "      <th>2</th>\n",
              "      <td>True</td>\n",
              "      <td>31.000000</td>\n",
              "      <td>False</td>\n",
              "      <td>0.0</td>\n",
              "      <td>0</td>\n",
              "      <td>1</td>\n",
              "      <td>0</td>\n",
              "      <td>0</td>\n",
              "      <td>0</td>\n",
              "      <td>1</td>\n",
              "      <td>0</td>\n",
              "      <td>0</td>\n",
              "      <td>0</td>\n",
              "      <td>0</td>\n",
              "      <td>0</td>\n",
              "      <td>1</td>\n",
              "      <td>0</td>\n",
              "      <td>0</td>\n",
              "    </tr>\n",
              "    <tr>\n",
              "      <th>3</th>\n",
              "      <td>False</td>\n",
              "      <td>38.000000</td>\n",
              "      <td>False</td>\n",
              "      <td>7418.0</td>\n",
              "      <td>0</td>\n",
              "      <td>1</td>\n",
              "      <td>0</td>\n",
              "      <td>0</td>\n",
              "      <td>0</td>\n",
              "      <td>1</td>\n",
              "      <td>0</td>\n",
              "      <td>0</td>\n",
              "      <td>0</td>\n",
              "      <td>0</td>\n",
              "      <td>0</td>\n",
              "      <td>0</td>\n",
              "      <td>0</td>\n",
              "      <td>1</td>\n",
              "    </tr>\n",
              "    <tr>\n",
              "      <th>4</th>\n",
              "      <td>False</td>\n",
              "      <td>20.000000</td>\n",
              "      <td>False</td>\n",
              "      <td>645.0</td>\n",
              "      <td>1</td>\n",
              "      <td>0</td>\n",
              "      <td>0</td>\n",
              "      <td>0</td>\n",
              "      <td>0</td>\n",
              "      <td>0</td>\n",
              "      <td>0</td>\n",
              "      <td>0</td>\n",
              "      <td>1</td>\n",
              "      <td>0</td>\n",
              "      <td>0</td>\n",
              "      <td>0</td>\n",
              "      <td>0</td>\n",
              "      <td>1</td>\n",
              "    </tr>\n",
              "    <tr>\n",
              "      <th>...</th>\n",
              "      <td>...</td>\n",
              "      <td>...</td>\n",
              "      <td>...</td>\n",
              "      <td>...</td>\n",
              "      <td>...</td>\n",
              "      <td>...</td>\n",
              "      <td>...</td>\n",
              "      <td>...</td>\n",
              "      <td>...</td>\n",
              "      <td>...</td>\n",
              "      <td>...</td>\n",
              "      <td>...</td>\n",
              "      <td>...</td>\n",
              "      <td>...</td>\n",
              "      <td>...</td>\n",
              "      <td>...</td>\n",
              "      <td>...</td>\n",
              "      <td>...</td>\n",
              "    </tr>\n",
              "    <tr>\n",
              "      <th>4272</th>\n",
              "      <td>True</td>\n",
              "      <td>34.000000</td>\n",
              "      <td>False</td>\n",
              "      <td>0.0</td>\n",
              "      <td>1</td>\n",
              "      <td>0</td>\n",
              "      <td>0</td>\n",
              "      <td>0</td>\n",
              "      <td>0</td>\n",
              "      <td>0</td>\n",
              "      <td>0</td>\n",
              "      <td>0</td>\n",
              "      <td>0</td>\n",
              "      <td>1</td>\n",
              "      <td>0</td>\n",
              "      <td>0</td>\n",
              "      <td>0</td>\n",
              "      <td>1</td>\n",
              "    </tr>\n",
              "    <tr>\n",
              "      <th>4273</th>\n",
              "      <td>False</td>\n",
              "      <td>42.000000</td>\n",
              "      <td>False</td>\n",
              "      <td>1018.0</td>\n",
              "      <td>1</td>\n",
              "      <td>0</td>\n",
              "      <td>0</td>\n",
              "      <td>0</td>\n",
              "      <td>0</td>\n",
              "      <td>0</td>\n",
              "      <td>0</td>\n",
              "      <td>0</td>\n",
              "      <td>0</td>\n",
              "      <td>1</td>\n",
              "      <td>0</td>\n",
              "      <td>0</td>\n",
              "      <td>0</td>\n",
              "      <td>1</td>\n",
              "    </tr>\n",
              "    <tr>\n",
              "      <th>4274</th>\n",
              "      <td>True</td>\n",
              "      <td>28.658146</td>\n",
              "      <td>False</td>\n",
              "      <td>0.0</td>\n",
              "      <td>0</td>\n",
              "      <td>0</td>\n",
              "      <td>1</td>\n",
              "      <td>0</td>\n",
              "      <td>0</td>\n",
              "      <td>0</td>\n",
              "      <td>1</td>\n",
              "      <td>0</td>\n",
              "      <td>0</td>\n",
              "      <td>0</td>\n",
              "      <td>0</td>\n",
              "      <td>1</td>\n",
              "      <td>0</td>\n",
              "      <td>0</td>\n",
              "    </tr>\n",
              "    <tr>\n",
              "      <th>4275</th>\n",
              "      <td>False</td>\n",
              "      <td>28.658146</td>\n",
              "      <td>False</td>\n",
              "      <td>3203.0</td>\n",
              "      <td>0</td>\n",
              "      <td>1</td>\n",
              "      <td>0</td>\n",
              "      <td>0</td>\n",
              "      <td>0</td>\n",
              "      <td>0</td>\n",
              "      <td>1</td>\n",
              "      <td>0</td>\n",
              "      <td>0</td>\n",
              "      <td>0</td>\n",
              "      <td>0</td>\n",
              "      <td>1</td>\n",
              "      <td>0</td>\n",
              "      <td>0</td>\n",
              "    </tr>\n",
              "    <tr>\n",
              "      <th>4276</th>\n",
              "      <td>True</td>\n",
              "      <td>43.000000</td>\n",
              "      <td>False</td>\n",
              "      <td>0.0</td>\n",
              "      <td>1</td>\n",
              "      <td>0</td>\n",
              "      <td>0</td>\n",
              "      <td>0</td>\n",
              "      <td>0</td>\n",
              "      <td>0</td>\n",
              "      <td>0</td>\n",
              "      <td>0</td>\n",
              "      <td>0</td>\n",
              "      <td>1</td>\n",
              "      <td>0</td>\n",
              "      <td>0</td>\n",
              "      <td>1</td>\n",
              "      <td>0</td>\n",
              "    </tr>\n",
              "  </tbody>\n",
              "</table>\n",
              "<p>4277 rows × 18 columns</p>\n",
              "</div>\n",
              "      <button class=\"colab-df-convert\" onclick=\"convertToInteractive('df-a1fa87f1-0edf-493e-94da-8f1c66e2c7f8')\"\n",
              "              title=\"Convert this dataframe to an interactive table.\"\n",
              "              style=\"display:none;\">\n",
              "        \n",
              "  <svg xmlns=\"http://www.w3.org/2000/svg\" height=\"24px\"viewBox=\"0 0 24 24\"\n",
              "       width=\"24px\">\n",
              "    <path d=\"M0 0h24v24H0V0z\" fill=\"none\"/>\n",
              "    <path d=\"M18.56 5.44l.94 2.06.94-2.06 2.06-.94-2.06-.94-.94-2.06-.94 2.06-2.06.94zm-11 1L8.5 8.5l.94-2.06 2.06-.94-2.06-.94L8.5 2.5l-.94 2.06-2.06.94zm10 10l.94 2.06.94-2.06 2.06-.94-2.06-.94-.94-2.06-.94 2.06-2.06.94z\"/><path d=\"M17.41 7.96l-1.37-1.37c-.4-.4-.92-.59-1.43-.59-.52 0-1.04.2-1.43.59L10.3 9.45l-7.72 7.72c-.78.78-.78 2.05 0 2.83L4 21.41c.39.39.9.59 1.41.59.51 0 1.02-.2 1.41-.59l7.78-7.78 2.81-2.81c.8-.78.8-2.07 0-2.86zM5.41 20L4 18.59l7.72-7.72 1.47 1.35L5.41 20z\"/>\n",
              "  </svg>\n",
              "      </button>\n",
              "      \n",
              "  <style>\n",
              "    .colab-df-container {\n",
              "      display:flex;\n",
              "      flex-wrap:wrap;\n",
              "      gap: 12px;\n",
              "    }\n",
              "\n",
              "    .colab-df-convert {\n",
              "      background-color: #E8F0FE;\n",
              "      border: none;\n",
              "      border-radius: 50%;\n",
              "      cursor: pointer;\n",
              "      display: none;\n",
              "      fill: #1967D2;\n",
              "      height: 32px;\n",
              "      padding: 0 0 0 0;\n",
              "      width: 32px;\n",
              "    }\n",
              "\n",
              "    .colab-df-convert:hover {\n",
              "      background-color: #E2EBFA;\n",
              "      box-shadow: 0px 1px 2px rgba(60, 64, 67, 0.3), 0px 1px 3px 1px rgba(60, 64, 67, 0.15);\n",
              "      fill: #174EA6;\n",
              "    }\n",
              "\n",
              "    [theme=dark] .colab-df-convert {\n",
              "      background-color: #3B4455;\n",
              "      fill: #D2E3FC;\n",
              "    }\n",
              "\n",
              "    [theme=dark] .colab-df-convert:hover {\n",
              "      background-color: #434B5C;\n",
              "      box-shadow: 0px 1px 3px 1px rgba(0, 0, 0, 0.15);\n",
              "      filter: drop-shadow(0px 1px 2px rgba(0, 0, 0, 0.3));\n",
              "      fill: #FFFFFF;\n",
              "    }\n",
              "  </style>\n",
              "\n",
              "      <script>\n",
              "        const buttonEl =\n",
              "          document.querySelector('#df-a1fa87f1-0edf-493e-94da-8f1c66e2c7f8 button.colab-df-convert');\n",
              "        buttonEl.style.display =\n",
              "          google.colab.kernel.accessAllowed ? 'block' : 'none';\n",
              "\n",
              "        async function convertToInteractive(key) {\n",
              "          const element = document.querySelector('#df-a1fa87f1-0edf-493e-94da-8f1c66e2c7f8');\n",
              "          const dataTable =\n",
              "            await google.colab.kernel.invokeFunction('convertToInteractive',\n",
              "                                                     [key], {});\n",
              "          if (!dataTable) return;\n",
              "\n",
              "          const docLinkHtml = 'Like what you see? Visit the ' +\n",
              "            '<a target=\"_blank\" href=https://colab.research.google.com/notebooks/data_table.ipynb>data table notebook</a>'\n",
              "            + ' to learn more about interactive tables.';\n",
              "          element.innerHTML = '';\n",
              "          dataTable['output_type'] = 'display_data';\n",
              "          await google.colab.output.renderOutput(dataTable, element);\n",
              "          const docLink = document.createElement('div');\n",
              "          docLink.innerHTML = docLinkHtml;\n",
              "          element.appendChild(docLink);\n",
              "        }\n",
              "      </script>\n",
              "    </div>\n",
              "  </div>\n",
              "  "
            ]
          },
          "metadata": {},
          "execution_count": 110
        }
      ]
    },
    {
      "cell_type": "code",
      "source": [
        "test['Age'] = test['Age'].fillna(test['Age'].mean())"
      ],
      "metadata": {
        "id": "HNgHMQJdN6lI"
      },
      "execution_count": null,
      "outputs": []
    },
    {
      "cell_type": "code",
      "source": [
        "test = pd.get_dummies(test, columns = ['HomePlanet', 'Cabin', 'Destination'])"
      ],
      "metadata": {
        "id": "VOC54tqnOtAX"
      },
      "execution_count": null,
      "outputs": []
    },
    {
      "cell_type": "code",
      "source": [
        "test_scaled.shape"
      ],
      "metadata": {
        "colab": {
          "base_uri": "https://localhost:8080/"
        },
        "id": "JAbE9-n_RHFw",
        "outputId": "1e161f12-3c7c-4536-c309-b9747354b253"
      },
      "execution_count": null,
      "outputs": [
        {
          "output_type": "execute_result",
          "data": {
            "text/plain": [
              "(4277, 18)"
            ]
          },
          "metadata": {},
          "execution_count": 113
        }
      ]
    },
    {
      "cell_type": "code",
      "source": [
        "#test accuracy\n",
        "scaler = StandardScaler()\n",
        "test_scaled = scaler.fit_transform(test) \n",
        "y_pred = regressor.predict(test_scaled)\n",
        "\n",
        "y_pred"
      ],
      "metadata": {
        "colab": {
          "base_uri": "https://localhost:8080/"
        },
        "id": "TClBiUeUOOmP",
        "outputId": "fb78ef29-cff4-4b45-a691-1eb5eb9dc025"
      },
      "execution_count": null,
      "outputs": [
        {
          "output_type": "execute_result",
          "data": {
            "text/plain": [
              "array([ True, False,  True, ...,  True, False,  True])"
            ]
          },
          "metadata": {},
          "execution_count": 114
        }
      ]
    },
    {
      "cell_type": "code",
      "source": [
        "y_pred.shape"
      ],
      "metadata": {
        "colab": {
          "base_uri": "https://localhost:8080/"
        },
        "id": "_Tmbsu4uPMvY",
        "outputId": "d39127b5-6604-4634-8eb8-482828daccdc"
      },
      "execution_count": null,
      "outputs": [
        {
          "output_type": "execute_result",
          "data": {
            "text/plain": [
              "(4277,)"
            ]
          },
          "metadata": {},
          "execution_count": 115
        }
      ]
    },
    {
      "cell_type": "code",
      "source": [
        "submit = pd.DataFrame(\n",
        "    {'PassengerId': testt.PassengerId, 'Transported': y_pred})\n"
      ],
      "metadata": {
        "id": "YLqcXCHbOym3"
      },
      "execution_count": null,
      "outputs": []
    },
    {
      "cell_type": "code",
      "source": [
        "submit.to_csv('Submit.csv',index= False)"
      ],
      "metadata": {
        "id": "bZj7Oc-pRXn3"
      },
      "execution_count": null,
      "outputs": []
    }
  ]
}