{
  "nbformat": 4,
  "nbformat_minor": 0,
  "metadata": {
    "colab": {
      "provenance": [],
      "collapsed_sections": []
    },
    "kernelspec": {
      "name": "python3",
      "display_name": "Python 3"
    },
    "language_info": {
      "name": "python"
    }
  },
  "cells": [
    {
      "cell_type": "code",
      "metadata": {
        "id": "G1KomPnRf_cn"
      },
      "source": [
        "import pandas as pd\n",
        "import matplotlib.pyplot as plt\n",
        "import numpy as np\n"
      ],
      "execution_count": null,
      "outputs": []
    },
    {
      "cell_type": "code",
      "source": [
        "from xgboost import XGBRegressor"
      ],
      "metadata": {
        "id": "Ktd_sSkxMc-T"
      },
      "execution_count": null,
      "outputs": []
    },
    {
      "cell_type": "code",
      "source": [
        "model = XGBRegressor(n_estimators=100, reg_alpha= 10, reg_lambda=20)"
      ],
      "metadata": {
        "id": "u-kvzaKOMnTC"
      },
      "execution_count": null,
      "outputs": []
    },
    {
      "cell_type": "code",
      "source": [
        "model.fit(X,y)"
      ],
      "metadata": {
        "colab": {
          "base_uri": "https://localhost:8080/"
        },
        "id": "c7W8wS5PNOP0",
        "outputId": "e6c6caa0-3544-4fae-a51d-40e17ef41881"
      },
      "execution_count": null,
      "outputs": [
        {
          "output_type": "stream",
          "name": "stdout",
          "text": [
            "[13:53:52] WARNING: /workspace/src/objective/regression_obj.cu:152: reg:linear is now deprecated in favor of reg:squarederror.\n"
          ]
        },
        {
          "output_type": "execute_result",
          "data": {
            "text/plain": [
              "XGBRegressor(reg_alpha=10, reg_lambda=20)"
            ]
          },
          "metadata": {},
          "execution_count": 40
        }
      ]
    },
    {
      "cell_type": "code",
      "source": [
        "model.predict(X)"
      ],
      "metadata": {
        "id": "dHITwaRGNWwE"
      },
      "execution_count": null,
      "outputs": []
    },
    {
      "cell_type": "code",
      "metadata": {
        "id": "M5azknahgqSG"
      },
      "source": [
        "df = pd.read_csv('Salary_Data.csv')"
      ],
      "execution_count": null,
      "outputs": []
    },
    {
      "cell_type": "code",
      "metadata": {
        "id": "TXMzholxoUmt"
      },
      "source": [
        "X = np.array(df.iloc[:,:-1])\n",
        "y = np.array(df.iloc[:,-1:])\n",
        "m = df.shape[0]"
      ],
      "execution_count": null,
      "outputs": []
    },
    {
      "cell_type": "code",
      "metadata": {
        "colab": {
          "base_uri": "https://localhost:8080/",
          "height": 282
        },
        "id": "zYnVNJsZhqSh",
        "outputId": "ecc1ac05-0f25-44fb-99de-e35456d3398e"
      },
      "source": [
        "plt.plot(X,y,'.-c')\n",
        "plt.plot(X,model.predict(X),'.-c')"
      ],
      "execution_count": null,
      "outputs": [
        {
          "output_type": "execute_result",
          "data": {
            "text/plain": [
              "[<matplotlib.lines.Line2D at 0x7f24ddc12510>]"
            ]
          },
          "metadata": {},
          "execution_count": 41
        },
        {
          "output_type": "display_data",
          "data": {
            "text/plain": [
              "<Figure size 432x288 with 1 Axes>"
            ],
            "image/png": "[encoded data removed]"
          },
          "metadata": {
            "needs_background": "light"
          }
        }
      ]
    },
    {
      "cell_type": "code",
      "metadata": {
        "id": "CBN9ucl-uV3i"
      },
      "source": [
        "#parameters initalizatioin\n",
        "theta0 = 0\n",
        "theta1 = 0\n",
        "lambdaa = 0"
      ],
      "execution_count": null,
      "outputs": []
    },
    {
      "cell_type": "code",
      "metadata": {
        "id": "M3d8TEU9oMgp"
      },
      "source": [
        "h = theta0 + theta1*X\n"
      ],
      "execution_count": null,
      "outputs": []
    },
    {
      "cell_type": "code",
      "metadata": {
        "id": "rinEKFeQokXM"
      },
      "source": [
        "j = 0.5 * 1/m * np.sum(np.power(h-y,2))"
      ],
      "execution_count": null,
      "outputs": []
    },
    {
      "cell_type": "code",
      "metadata": {
        "colab": {
          "base_uri": "https://localhost:8080/"
        },
        "id": "Yy2qRjn0E5B-",
        "outputId": "67126902-42dd-47ed-a4b5-614c42a5c339"
      },
      "source": [
        "j"
      ],
      "execution_count": null,
      "outputs": [
        {
          "output_type": "execute_result",
          "data": {
            "text/plain": [
              "582933639.1249905"
            ]
          },
          "metadata": {},
          "execution_count": 74
        }
      ]
    },
    {
      "cell_type": "code",
      "metadata": {
        "id": "3_1uNkLPtqpZ"
      },
      "source": [
        "dtheta0 = 1/m * np.sum(h-y)\n",
        "dtheta1 = 1/m * np.sum((h-y)*X)"
      ],
      "execution_count": null,
      "outputs": []
    },
    {
      "cell_type": "code",
      "metadata": {
        "id": "gJKXt2PFuwbC"
      },
      "source": [
        "#learning rate\n",
        "alpha = 0.05"
      ],
      "execution_count": null,
      "outputs": []
    },
    {
      "cell_type": "code",
      "metadata": {
        "id": "RA7KIG19uTjX"
      },
      "source": [
        "#update parameters\n",
        "theta0 = theta0 - alpha * dtheta0\n",
        "theta1 = theta1 - alpha * dtheta1"
      ],
      "execution_count": null,
      "outputs": []
    },
    {
      "cell_type": "code",
      "metadata": {
        "colab": {
          "base_uri": "https://localhost:8080/"
        },
        "id": "nHLhryhX_ZpG",
        "outputId": "03e10055-293d-40a1-ecb4-eefe7d6a6ebf"
      },
      "source": [
        "print(theta0)\n",
        "print(theta1)"
      ],
      "execution_count": null,
      "outputs": [
        {
          "output_type": "stream",
          "name": "stdout",
          "text": [
            "1258.8018574\n",
            "7788.160088166667\n"
          ]
        }
      ]
    },
    {
      "cell_type": "code",
      "metadata": {
        "id": "uRBTwprNLiwa"
      },
      "source": [
        "jlist=[]\n"
      ],
      "execution_count": null,
      "outputs": []
    },
    {
      "cell_type": "code",
      "metadata": {
        "colab": {
          "base_uri": "https://localhost:8080/",
          "height": 282
        },
        "id": "WABsnoOgve--",
        "outputId": "87fc3874-adb7-4bae-b883-b177505a830c"
      },
      "source": [
        "\n",
        "for i in range(50):\n",
        "  #calc hypothesis\n",
        "  h = theta0 + theta1 * X\n",
        "\n",
        "  #calc cost func\n",
        "  j = 0.5 * 1/m * np.sum(np.power(h-y,2)) + (lambdaa * theta1**2)\n",
        "  #calc derivative term\n",
        "  dtheta0 = 1/m * np.sum(h - y) \n",
        "  dtheta1 = 1/m * np.sum((h - y) * X) \n",
        "\n",
        "  #update param\n",
        "\n",
        "  theta0 = theta0 - alpha * dtheta0 \n",
        "  theta1 = (theta1 - alpha * dtheta1) + (lambdaa * theta1)\n",
        "  \n",
        "  jlist.append(j)\n",
        "\n",
        "  \n",
        "plt.plot(df.iloc[:,:-1],(theta0 + theta1*(df.iloc[:,:-1])),'.-r')\n",
        "plt.scatter(df.iloc[:,:-1],df.iloc[:,-1])\n",
        "print(theta0,theta1)\n",
        "\n",
        "\n",
        "\n"
      ],
      "execution_count": null,
      "outputs": [
        {
          "output_type": "stream",
          "name": "stdout",
          "text": [
            "-52753.34416755401 28928.20635483128\n"
          ]
        },
        {
          "output_type": "display_data",
          "data": {
            "text/plain": [
              "<Figure size 432x288 with 1 Axes>"
            ],
            "image/png": "[encoded data removed]"
          },
          "metadata": {
            "needs_background": "light"
          }
        }
      ]
    },
    {
      "cell_type": "code",
      "source": [
        "j"
      ],
      "metadata": {
        "colab": {
          "base_uri": "https://localhost:8080/"
        },
        "id": "ZzfzUx58NhhR",
        "outputId": "fa5cbd7f-a41d-49f0-e828-6e78cae38f5c"
      },
      "execution_count": null,
      "outputs": [
        {
          "output_type": "execute_result",
          "data": {
            "text/plain": [
              "5037350564.669223"
            ]
          },
          "metadata": {},
          "execution_count": 132
        }
      ]
    },
    {
      "cell_type": "code",
      "metadata": {
        "colab": {
          "base_uri": "https://localhost:8080/",
          "height": 293
        },
        "id": "EnCMMUFwBKRR",
        "outputId": "f8324fd4-9545-4d67-a55c-3340427e49d2"
      },
      "source": [
        "plt.plot(range(0,50),(jlist))"
      ],
      "execution_count": null,
      "outputs": [
        {
          "output_type": "execute_result",
          "data": {
            "text/plain": [
              "[<matplotlib.lines.Line2D at 0x7f35035c6f50>]"
            ]
          },
          "metadata": {},
          "execution_count": 133
        },
        {
          "output_type": "display_data",
          "data": {
            "text/plain": [
              "<Figure size 432x288 with 1 Axes>"
            ],
            "image/png": "[encoded data removed]"
          },
          "metadata": {
            "needs_background": "light"
          }
        }
      ]
    },
    {
      "cell_type": "code",
      "source": [
        "x = np.arange(0,np.pi,0.01)\n",
        "\n",
        "A = 1\n",
        "B = 1\n",
        "C = 0\n",
        "D = 2\n",
        "\n",
        "y = A * np.sin( B * (x + C) + D)\n",
        "plt.plot(x, y)\n",
        "#y= np.arange()"
      ],
      "metadata": {
        "colab": {
          "base_uri": "https://localhost:8080/",
          "height": 286
        },
        "id": "A3XDROy1UZ90",
        "outputId": "e3a9bcb1-2b76-4948-bcb9-1f8dc8a8d456"
      },
      "execution_count": null,
      "outputs": [
        {
          "output_type": "execute_result",
          "data": {
            "text/plain": [
              "[<matplotlib.lines.Line2D at 0x7fbb69d9b150>]"
            ]
          },
          "metadata": {},
          "execution_count": 2
        },
        {
          "output_type": "display_data",
          "data": {
            "text/plain": [
              "<Figure size 432x288 with 1 Axes>"
            ],
            "image/png": "[encoded data removed]"
          },
          "metadata": {
            "needs_background": "light"
          }
        }
      ]
    },
    {
      "cell_type": "code",
      "source": [
        "X = np.arange(0,10,1)\n",
        "#plt.plot(X,X*np.log(X))\n",
        "print(X)\n",
        "print(np.power(X,X))\n",
        "plt.plot(X,np.power(X,X))"
      ],
      "metadata": {
        "colab": {
          "base_uri": "https://localhost:8080/",
          "height": 345
        },
        "id": "gUW6VZx1MCGs",
        "outputId": "ed89d624-c99a-4b00-a4a3-30381522d7d1"
      },
      "execution_count": null,
      "outputs": [
        {
          "output_type": "stream",
          "name": "stdout",
          "text": [
            "[0 1 2 3 4 5 6 7 8 9]\n",
            "[        1         1         4        27       256      3125     46656\n",
            "    823543  16777216 387420489]\n"
          ]
        },
        {
          "output_type": "execute_result",
          "data": {
            "text/plain": [
              "[<matplotlib.lines.Line2D at 0x7fbb68f72890>]"
            ]
          },
          "metadata": {},
          "execution_count": 13
        },
        {
          "output_type": "display_data",
          "data": {
            "text/plain": [
              "<Figure size 432x288 with 1 Axes>"
            ],
            "image/png": "[encoded data removed]"
          },
          "metadata": {
            "needs_background": "light"
          }
        }
      ]
    }
  ]
}