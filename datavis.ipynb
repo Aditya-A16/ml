{
  "nbformat": 4,
  "nbformat_minor": 0,
  "metadata": {
    "colab": {
      "provenance": [],
      "collapsed_sections": []
    },
    "kernelspec": {
      "name": "python3",
      "display_name": "Python 3"
    },
    "language_info": {
      "name": "python"
    }
  },
  "cells": [
    {
      "cell_type": "code",
      "metadata": {
        "id": "XtO8t65fEjUQ",
        "colab": {
          "base_uri": "https://localhost:8080/"
        },
        "outputId": "95a1b755-22c9-4396-c7bd-6d21fe91978a"
      },
      "source": [
        "a = list()\n",
        "b = list()\n",
        "mul = list()\n",
        "\n",
        "count = dict()\n",
        "\n",
        "for i in range(1,7,1):\n",
        "    a.append(i)\n",
        "    b.append(i)\n",
        "print(a)\n",
        "print(b)\n",
        "\n"
      ],
      "execution_count": null,
      "outputs": [
        {
          "output_type": "stream",
          "name": "stdout",
          "text": [
            "[1, 2, 3, 4, 5, 6]\n",
            "[1, 2, 3, 4, 5, 6]\n"
          ]
        }
      ]
    },
    {
      "cell_type": "code",
      "metadata": {
        "colab": {
          "base_uri": "https://localhost:8080/"
        },
        "id": "8HCapmujD_tS",
        "outputId": "94229f9c-cb87-4759-e71a-1bcb15a0cfce"
      },
      "source": [
        "for i in a:\n",
        "    for j in b:\n",
        "        mul.append(i+j)\n",
        "print(len(mul))\n",
        "print(mul)"
      ],
      "execution_count": null,
      "outputs": [
        {
          "output_type": "stream",
          "name": "stdout",
          "text": [
            "36\n",
            "[2, 3, 4, 5, 6, 7, 3, 4, 5, 6, 7, 8, 4, 5, 6, 7, 8, 9, 5, 6, 7, 8, 9, 10, 6, 7, 8, 9, 10, 11, 7, 8, 9, 10, 11, 12]\n"
          ]
        }
      ]
    },
    {
      "cell_type": "code",
      "metadata": {
        "colab": {
          "base_uri": "https://localhost:8080/"
        },
        "id": "WYtpfMQSEAEY",
        "outputId": "a0ef6a22-493e-4100-92cc-648ed0e895a9"
      },
      "source": [
        " for i in mul:\n",
        "    count[i] = count.get(i, 0) + 1\n",
        "print(count)"
      ],
      "execution_count": null,
      "outputs": [
        {
          "output_type": "stream",
          "name": "stdout",
          "text": [
            "{2: 1, 3: 2, 4: 3, 5: 4, 6: 5, 7: 6, 8: 5, 9: 4, 10: 3, 11: 2, 12: 1}\n"
          ]
        }
      ]
    },
    {
      "cell_type": "code",
      "metadata": {
        "colab": {
          "base_uri": "https://localhost:8080/",
          "height": 282
        },
        "id": "gyRcD7OiEu-4",
        "outputId": "22859f96-088a-49b0-c29d-1c0d66fd8b90"
      },
      "source": [
        "import matplotlib.pyplot as plt\n",
        "ax = plt.axes()\n",
        "ax.set_xticklabels(count.keys())\n",
        "plt.bar(count.keys(), count.values(), width = 1.0, color='g')\n",
        "\n",
        "\n"
      ],
      "execution_count": null,
      "outputs": [
        {
          "output_type": "execute_result",
          "data": {
            "text/plain": [
              "<BarContainer object of 11 artists>"
            ]
          },
          "metadata": {},
          "execution_count": 4
        },
        {
          "output_type": "display_data",
          "data": {
            "image/png": "[encoded data removed]",
            "text/plain": [
              "<Figure size 432x288 with 1 Axes>"
            ]
          },
          "metadata": {
            "needs_background": "light"
          }
        }
      ]
    },
    {
      "cell_type": "code",
      "metadata": {
        "colab": {
          "base_uri": "https://localhost:8080/",
          "height": 295
        },
        "id": "l2IJNSrcMX7h",
        "outputId": "a39e7463-ed2f-43fe-fb30-d1821450ea8c"
      },
      "source": [
        "plt.plot(list(count.keys()),list(count.values()),'-k', label = 'prob',linewidth = 5,)\n",
        "plt.xlabel(\"xaxis\")\n",
        "plt.ylabel(\"yaxis\")\n",
        "plt.title(\"title\")\n",
        "plt.legend()\n",
        "plt.grid(True,color = 'r')\n",
        "plt.show()"
      ],
      "execution_count": null,
      "outputs": [
        {
          "output_type": "display_data",
          "data": {
            "image/png": "[encoded data removed]",
            "text/plain": [
              "<Figure size 432x288 with 1 Axes>"
            ]
          },
          "metadata": {
            "needs_background": "light"
          }
        }
      ]
    },
    {
      "cell_type": "code",
      "metadata": {
        "id": "vVRhMAFyvpU-"
      },
      "source": [],
      "execution_count": null,
      "outputs": []
    }
  ]
}